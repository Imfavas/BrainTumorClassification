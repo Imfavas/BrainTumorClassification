{
 "cells": [
  {
   "cell_type": "code",
   "execution_count": 2,
   "metadata": {},
   "outputs": [],
   "source": [
    "import os\n",
    "import cv2\n",
    "import numpy as np\n",
    "import tensorflow as tf"
   ]
  },
  {
   "cell_type": "code",
   "execution_count": 8,
   "metadata": {},
   "outputs": [
    {
     "name": "stdout",
     "output_type": "stream",
     "text": [
      "Model loaded successfully.\n"
     ]
    }
   ],
   "source": [
    "model = tf.keras.models.load_model('best_model.keras')\n",
    "print(\"Model loaded successfully.\")"
   ]
  },
  {
   "cell_type": "code",
   "execution_count": 3,
   "metadata": {},
   "outputs": [],
   "source": [
    "train_path = 'Brain_Tumor/Training'\n",
    "categories = os.listdir(train_path)"
   ]
  },
  {
   "cell_type": "code",
   "execution_count": 4,
   "metadata": {},
   "outputs": [],
   "source": [
    "test_path = 'Brain_Tumor/Testing'\n",
    "X_test = []\n",
    "y_test = []"
   ]
  },
  {
   "cell_type": "code",
   "execution_count": 5,
   "metadata": {},
   "outputs": [
    {
     "name": "stdout",
     "output_type": "stream",
     "text": [
      "Loaded glioma\n",
      "Loaded meningioma\n",
      "Loaded notumor\n",
      "Loaded pituitary\n"
     ]
    }
   ],
   "source": [
    "for category in categories:\n",
    "    sub_dir_path = os.path.join(test_path, category)\n",
    "    images = os.listdir(sub_dir_path)\n",
    "    for img in images:\n",
    "        img_path = os.path.join(sub_dir_path, img)\n",
    "        img_array = cv2.imread(img_path, cv2.IMREAD_GRAYSCALE)\n",
    "        if img_array is None:\n",
    "            print(f\"Failed to load image: {img_path}\")\n",
    "            continue\n",
    "        img_resize = cv2.resize(img_array, (150, 150))\n",
    "        img_normalized = img_resize.astype('float32') / 255.0\n",
    "        img_processed = np.expand_dims(img_normalized, axis=-1)  # Shape: (150, 150, 1)\n",
    "        X_test.append(img_processed)\n",
    "        y_test.append(categories.index(category))\n",
    "    print('Loaded', category)"
   ]
  },
  {
   "cell_type": "code",
   "execution_count": 6,
   "metadata": {},
   "outputs": [],
   "source": [
    "X_test = np.array(X_test)\n",
    "y_test = np.array(y_test)"
   ]
  },
  {
   "cell_type": "code",
   "execution_count": 9,
   "metadata": {},
   "outputs": [
    {
     "name": "stdout",
     "output_type": "stream",
     "text": [
      "\u001b[1m41/41\u001b[0m \u001b[32m━━━━━━━━━━━━━━━━━━━━\u001b[0m\u001b[37m\u001b[0m \u001b[1m2s\u001b[0m 50ms/step - accuracy: 0.7404 - loss: 0.6581\n",
      "LOSS : 0.48895496129989624\n",
      "Accuracy :  0.8176963925361633\n"
     ]
    }
   ],
   "source": [
    "loss,accuracy = model.evaluate(X_test,y_test)\n",
    "print(\"LOSS :\",loss)\n",
    "print(\"Accuracy : \",accuracy)"
   ]
  },
  {
   "cell_type": "code",
   "execution_count": null,
   "metadata": {},
   "outputs": [],
   "source": [
    "# Define the image preprocessing function\n",
    "def preprocess_image(image_path, img_size=(150, 150)):\n",
    "    \"\"\"\n",
    "    Reads an image from the given path, converts it to grayscale,\n",
    "    resizes it to the specified dimensions, normalizes the pixel values,\n",
    "    and adds the required channel dimension.\n",
    "    \"\"\"\n",
    "    # Read the image in grayscale\n",
    "    img = cv2.imread(image_path, cv2.IMREAD_GRAYSCALE)\n",
    "    if img is None:\n",
    "        raise ValueError(f\"Could not read the image from {image_path}\")\n",
    "    \n",
    "    # Resize the image to match the model's expected input size\n",
    "    img_resized = cv2.resize(img, img_size)\n",
    "    \n",
    "    # Normalize the image to the [0, 1] range\n",
    "    img_normalized = img_resized.astype('float32') / 255.0\n",
    "    \n",
    "    # Add a channel dimension (since the model expects shape: (height, width, channels))\n",
    "    img_processed = np.expand_dims(img_normalized, axis=-1)\n",
    "    \n",
    "    # Add a batch dimension: (1, height, width, channels)\n",
    "    img_processed = np.expand_dims(img_processed, axis=0)\n",
    "    \n",
    "    return img_processed"
   ]
  },
  {
   "cell_type": "code",
   "execution_count": 11,
   "metadata": {},
   "outputs": [
    {
     "name": "stdout",
     "output_type": "stream",
     "text": [
      "\u001b[1m1/1\u001b[0m \u001b[32m━━━━━━━━━━━━━━━━━━━━\u001b[0m\u001b[37m\u001b[0m \u001b[1m0s\u001b[0m 50ms/step\n",
      "Predicted Class: 2\n",
      "Confidence: 1.00\n",
      "Predicted Label: notumor\n"
     ]
    }
   ],
   "source": [
    "# Provide the path to the image you want to test\n",
    "test_image_path = r'Brain_Tumor\\Testing\\notumor\\Te-no_0169.jpg'  \n",
    "\n",
    "# Preprocess the image\n",
    "try:\n",
    "    processed_image = preprocess_image(test_image_path)\n",
    "except ValueError as e:\n",
    "    print(e)\n",
    "    exit()\n",
    "# Make a prediction using the model\n",
    "predictions = model.predict(processed_image)\n",
    "predicted_class = np.argmax(predictions, axis=1)[0]\n",
    "confidence = np.max(predictions)\n",
    "\n",
    "print(f\"Predicted Class: {predicted_class}\")\n",
    "print(f\"Confidence: {confidence:.2f}\")\n",
    "\n",
    "\n",
    "class_names = categories  \n",
    "if predicted_class < len(class_names):\n",
    "    print(f\"Predicted Label: {class_names[predicted_class]}\")"
   ]
  },
  {
   "cell_type": "code",
   "execution_count": 12,
   "metadata": {},
   "outputs": [],
   "source": [
    "test_list = ['Brain_Tumor/Testing/pituitary/Te-pi_0012.jpg','Brain_Tumor/Testing/glioma/Te-gl_0016.jpg','Brain_Tumor/Testing/meningioma/Te-me_0021.jpg','Brain_Tumor/Testing/notumor/Te-no_0199.jpg']"
   ]
  },
  {
   "cell_type": "code",
   "execution_count": 13,
   "metadata": {},
   "outputs": [
    {
     "name": "stdout",
     "output_type": "stream",
     "text": [
      "\u001b[1m1/1\u001b[0m \u001b[32m━━━━━━━━━━━━━━━━━━━━\u001b[0m\u001b[37m\u001b[0m \u001b[1m0s\u001b[0m 35ms/step\n",
      "Predicted Class: 3\n",
      "Confidence: 0.91\n",
      "Predicted Label: pituitary\n",
      "actual class : pituitary\n",
      "\u001b[1m1/1\u001b[0m \u001b[32m━━━━━━━━━━━━━━━━━━━━\u001b[0m\u001b[37m\u001b[0m \u001b[1m0s\u001b[0m 18ms/step\n",
      "Predicted Class: 0\n",
      "Confidence: 0.97\n",
      "Predicted Label: glioma\n",
      "actual class : glioma\n",
      "\u001b[1m1/1\u001b[0m \u001b[32m━━━━━━━━━━━━━━━━━━━━\u001b[0m\u001b[37m\u001b[0m \u001b[1m0s\u001b[0m 14ms/step\n",
      "Predicted Class: 2\n",
      "Confidence: 0.51\n",
      "Predicted Label: notumor\n",
      "actual class : meningioma\n",
      "\u001b[1m1/1\u001b[0m \u001b[32m━━━━━━━━━━━━━━━━━━━━\u001b[0m\u001b[37m\u001b[0m \u001b[1m0s\u001b[0m 19ms/step\n",
      "Predicted Class: 2\n",
      "Confidence: 1.00\n",
      "Predicted Label: notumor\n",
      "actual class : notumor\n"
     ]
    }
   ],
   "source": [
    "for path in test_list:\n",
    "    test_image_path = path  # Replace with your actual image path\n",
    "    actual_class = path.split('/')[2]\n",
    "    # Preprocess the image\n",
    "    try:\n",
    "        processed_image = preprocess_image(test_image_path)\n",
    "    except ValueError as e:\n",
    "        print(e)\n",
    "        exit()\n",
    "    # Make a prediction using the model\n",
    "    predictions = model.predict(processed_image)\n",
    "    predicted_class = np.argmax(predictions, axis=1)[0]\n",
    "    confidence = np.max(predictions)\n",
    "\n",
    "    print(f\"Predicted Class: {predicted_class}\")\n",
    "    print(f\"Confidence: {confidence:.2f}\")\n",
    "\n",
    "    # Optionally, if you have a mapping of class indices to names, you can display that as well.\n",
    "    # For example:\n",
    "    class_names = ['glioma', 'meningioma', 'notumor', 'pituitary']  # Replace with your actual class names\n",
    "    if predicted_class < len(class_names):\n",
    "        print(f\"Predicted Label: {class_names[predicted_class]}\")\n",
    "        print(f\"actual class : {actual_class}\")"
   ]
  }
 ],
 "metadata": {
  "kernelspec": {
   "display_name": "Python 3",
   "language": "python",
   "name": "python3"
  },
  "language_info": {
   "codemirror_mode": {
    "name": "ipython",
    "version": 3
   },
   "file_extension": ".py",
   "mimetype": "text/x-python",
   "name": "python",
   "nbconvert_exporter": "python",
   "pygments_lexer": "ipython3",
   "version": "3.12.3"
  }
 },
 "nbformat": 4,
 "nbformat_minor": 2
}
