{
 "cells": [
  {
   "cell_type": "code",
   "execution_count": null,
   "metadata": {},
   "outputs": [],
   "source": [
    "import os\n",
    "import cv2\n",
    "import numpy as np\n",
    "import shutil\n",
    "import time"
   ]
  },
  {
   "cell_type": "code",
   "execution_count": null,
   "metadata": {},
   "outputs": [],
   "source": [
    "# Paths for training and processed images\n",
    "train_path = 'Brain_Tumor/Training'\n",
    "processed_path = 'Brain_Tumor/Processed'\n",
    "npz_filename = 'training_data.npz'\n"
   ]
  },
  {
   "cell_type": "code",
   "execution_count": null,
   "metadata": {},
   "outputs": [],
   "source": [
    "# Define the target image size\n",
    "img_size = (150, 150)\n",
    "\n",
    "# Start timing\n",
    "start_time = time.time()\n",
    "\n",
    "# Ensure the processed folder exists\n",
    "if not os.path.exists(processed_path):\n",
    "    os.makedirs(processed_path)\n",
    "\n",
    "categories = os.listdir(train_path)"
   ]
  },
  {
   "cell_type": "code",
   "execution_count": null,
   "metadata": {},
   "outputs": [],
   "source": [
    "# Lists to store images and labels\n",
    "images_list = []\n",
    "labels_list = []"
   ]
  },
  {
   "cell_type": "code",
   "execution_count": null,
   "metadata": {},
   "outputs": [
    {
     "name": "stdout",
     "output_type": "stream",
     "text": [
      "Processed category: glioma\n",
      "Processed category: meningioma\n",
      "Processed category: notumor\n",
      "Processed category: pituitary\n",
      "All images processed and stored in NPZ.\n",
      "Total time taken: 110.09 seconds\n"
     ]
    }
   ],
   "source": [
    "# Loop through each category folder and process images\n",
    "for category in categories:\n",
    "    sub_dir_path = os.path.join(train_path, category)\n",
    "    images = os.listdir(sub_dir_path)\n",
    "    for img in images:\n",
    "        img_path = os.path.join(sub_dir_path, img)\n",
    "        \n",
    "        # Read the image in grayscale and resize it\n",
    "        img_array = cv2.imread(img_path, cv2.IMREAD_GRAYSCALE)\n",
    "        if img_array is None:\n",
    "            print(f\"Warning: Could not read {img_path}\")\n",
    "            continue\n",
    "        \n",
    "        img_resize = cv2.resize(img_array, img_size)\n",
    "        \n",
    "        # Append to lists\n",
    "        images_list.append(img_resize)\n",
    "        labels_list.append(categories.index(category))\n",
    "\n",
    "        # Move the processed image to the processed folder (preserving category structure)\n",
    "        dest_category_dir = os.path.join(processed_path, category)\n",
    "        if not os.path.exists(dest_category_dir):\n",
    "            os.makedirs(dest_category_dir)\n",
    "        shutil.move(img_path, os.path.join(dest_category_dir, img))\n",
    "    \n",
    "    print(f'Processed category: {category}')\n",
    "\n",
    "# Convert lists to NumPy arrays\n",
    "images_array = np.array(images_list, dtype='uint8')\n",
    "labels_array = np.array(labels_list, dtype='int')\n",
    "\n",
    "# Save to .npz file\n",
    "np.savez_compressed(npz_filename, images=images_array, labels=labels_array)\n",
    "\n",
    "# End timing\n",
    "end_time = time.time()\n",
    "total_time = end_time - start_time\n",
    "\n",
    "print(\"All images processed and stored in NPZ.\")\n",
    "print(f\"Total time taken: {total_time:.2f} seconds\")"
   ]
  }
 ],
 "metadata": {
  "kernelspec": {
   "display_name": "Python 3",
   "language": "python",
   "name": "python3"
  },
  "language_info": {
   "codemirror_mode": {
    "name": "ipython",
    "version": 3
   },
   "file_extension": ".py",
   "mimetype": "text/x-python",
   "name": "python",
   "nbconvert_exporter": "python",
   "pygments_lexer": "ipython3",
   "version": "3.12.3"
  }
 },
 "nbformat": 4,
 "nbformat_minor": 2
}
